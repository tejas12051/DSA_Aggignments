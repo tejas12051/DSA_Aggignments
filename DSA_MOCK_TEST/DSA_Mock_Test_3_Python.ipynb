{
  "nbformat": 4,
  "nbformat_minor": 0,
  "metadata": {
    "colab": {
      "provenance": []
    },
    "kernelspec": {
      "name": "python3",
      "display_name": "Python 3"
    },
    "language_info": {
      "name": "python"
    }
  },
  "cells": [
    {
      "cell_type": "markdown",
      "source": [
        "1. Implement a stack using a list in Python. Include the necessary methods such as push, pop, and isEmpty.\n",
        "\n",
        "Ans:"
      ],
      "metadata": {
        "id": "lICczNpbPphp"
      }
    },
    {
      "cell_type": "code",
      "source": [
        "class Stack:\n",
        "    def __init__(self):\n",
        "        self.stack = []\n",
        "\n",
        "    def push(self, item):\n",
        "        self.stack.append(item)\n",
        "\n",
        "    def pop(self):\n",
        "        if not self.isEmpty():\n",
        "            return self.stack.pop()\n",
        "        else:\n",
        "            print(\"Stack is empty.\")\n",
        "\n",
        "    def isEmpty(self):\n",
        "        return len(self.stack) == 0"
      ],
      "metadata": {
        "id": "ZjTck2FPQB6s"
      },
      "execution_count": 1,
      "outputs": []
    },
    {
      "cell_type": "code",
      "source": [
        "stack = Stack()\n",
        "stack.push(5)\n",
        "stack.push(10)\n",
        "stack.push(15)\n",
        "print(stack.pop())\n",
        "print(stack.isEmpty())\n",
        "print(stack.pop())\n",
        "print(stack.pop())\n",
        "print(stack.pop())\n",
        "print(stack.isEmpty())"
      ],
      "metadata": {
        "colab": {
          "base_uri": "https://localhost:8080/"
        },
        "id": "yK0RboS5R5um",
        "outputId": "a340b2c1-4db1-400c-df67-a3db56055695"
      },
      "execution_count": 2,
      "outputs": [
        {
          "output_type": "stream",
          "name": "stdout",
          "text": [
            "15\n",
            "False\n",
            "10\n",
            "5\n",
            "Stack is empty.\n",
            "None\n",
            "True\n"
          ]
        }
      ]
    },
    {
      "cell_type": "markdown",
      "source": [
        "2. Implement a queue using a list in Python. Include the necessary methods such as enqueue, dequeue, and isEmpty.\n",
        "\n",
        "Ans:"
      ],
      "metadata": {
        "id": "WLEZOKmdPuGY"
      }
    },
    {
      "cell_type": "code",
      "source": [
        "class Queue:\n",
        "    def __init__(self):\n",
        "        self.items = []\n",
        "\n",
        "    def is_empty(self):\n",
        "        return len(self.items) == 0\n",
        "\n",
        "    def enqueue(self, item):\n",
        "        self.items.append(item)\n",
        "\n",
        "    def dequeue(self):\n",
        "        if self.is_empty():\n",
        "            return None\n",
        "        return self.items.pop(0)"
      ],
      "metadata": {
        "id": "qBWwJIwpQ-v0"
      },
      "execution_count": 3,
      "outputs": []
    },
    {
      "cell_type": "code",
      "source": [
        "# Create a new queue\n",
        "my_queue = Queue()\n",
        "\n",
        "# Check if the queue is empty\n",
        "print(my_queue.is_empty())\n",
        "\n",
        "# Enqueue some items\n",
        "my_queue.enqueue(\"apple\")\n",
        "my_queue.enqueue(\"banana\")\n",
        "my_queue.enqueue(\"cherry\")\n",
        "\n",
        "# Check if the queue is empty again\n",
        "print(my_queue.is_empty())\n",
        "\n",
        "# Dequeue an item\n",
        "print(my_queue.dequeue())\n",
        "\n",
        "# Dequeue another item\n",
        "print(my_queue.dequeue())\n",
        "\n",
        "# Dequeue the remaining item\n",
        "print(my_queue.dequeue())\n",
        "\n",
        "# Try to dequeue from an empty queue\n",
        "print(my_queue.dequeue())\n",
        "\n",
        "# Check if the queue is empty after dequeueing all items\n",
        "print(my_queue.is_empty())"
      ],
      "metadata": {
        "colab": {
          "base_uri": "https://localhost:8080/"
        },
        "id": "x0iBmEdGSQhB",
        "outputId": "8b2a78cd-56af-44d6-ca1f-712e47f7b1e1"
      },
      "execution_count": 4,
      "outputs": [
        {
          "output_type": "stream",
          "name": "stdout",
          "text": [
            "True\n",
            "False\n",
            "apple\n",
            "banana\n",
            "cherry\n",
            "None\n",
            "True\n"
          ]
        }
      ]
    }
  ]
}